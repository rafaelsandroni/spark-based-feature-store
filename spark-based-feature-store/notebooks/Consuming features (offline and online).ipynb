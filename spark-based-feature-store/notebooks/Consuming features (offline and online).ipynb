{
 
 "cells": [
  {
   "cell_type": "markdown",
   "metadata": {},
   "source": [
    "# Code example consuming feature store \n",
    "\n",
    "## Setting spark session"
   ]
  },
  {
   "cell_type": "code",
   "execution_count": 2,
   "metadata": {},
   "outputs": [],
   "source": [
    "from pyspark import SparkContext, SparkConf\n",
    "from pyspark.sql import session, SparkSession\n",
    "from pyspark.sql import HiveContext\n",
    "from butterfree.clients import SparkClient\n",
    "\n",
    "def spark_session():\n",
    "    \n",
    "    hive_metastore = \"thrift://hive-metastore:9083\"\n",
    "\n",
    "    spark = (\n",
    "        SparkSession\n",
    "        .builder\n",
    "        .appName(\"Feature Store\")\n",
    "        .config(\"spark.sql.warehouse.dir\", hive_metastore)\n",
    "        .config(\"spark.hive.metastore.uris\", hive_metastore)\n",
    "        .config(\"spark.executor.memory\", \"8g\")\n",
    "        .config(\"spark.executor.cores\", \"2\")\n",
    "        .config(\"spark.sql.shuffle.partitions\", 10)\n",
    "        .enableHiveSupport()\n",
    "        .getOrCreate()\n",
    "    )\n",
    "\n",
    "    sc=spark.sparkContext\n",
    "\n",
    "    spark_client = SparkClient()\n",
    "    hive_context = HiveContext(sc)\n",
    "\n",
    "    return spark_client, spark\n",
    "\n",
    "spark_client, spark = spark_session()"
   ]
  },
  {
   "cell_type": "markdown",
   "metadata": {},
   "source": [
    "## Realtime data (online), from Cassandra"
   ]
  },
  {
   "cell_type": "code",
   "execution_count": 3,
   "metadata": {},
   "outputs": [
    {
     "data": {
      "text/html": [
       "<div>\n",
       "<style scoped>\n",
       "    .dataframe tbody tr th:only-of-type {\n",
       "        vertical-align: middle;\n",
       "    }\n",
       "\n",
       "    .dataframe tbody tr th {\n",
       "        vertical-align: top;\n",
       "    }\n",
       "\n",
       "    .dataframe thead th {\n",
       "        text-align: right;\n",
       "    }\n",
       "</style>\n",
       "<table border=\"1\" class=\"dataframe\">\n",
       "  <thead>\n",
       "    <tr style=\"text-align: right;\">\n",
       "      <th></th>\n",
       "      <th>customer_id</th>\n",
       "      <th>avg_order_amount_1_month_val</th>\n",
       "      <th>items_count_val</th>\n",
       "      <th>ratio_order_amount_by_average_ticket_val</th>\n",
       "      <th>ratio_order_amount_by_items_val</th>\n",
       "      <th>timestamp</th>\n",
       "    </tr>\n",
       "  </thead>\n",
       "  <tbody>\n",
       "    <tr>\n",
       "      <th>0</th>\n",
       "      <td>c0844066-28e1-4658-b375-91fa8173c7e2</td>\n",
       "      <td>21.0</td>\n",
       "      <td>5</td>\n",
       "      <td>0.700000</td>\n",
       "      <td>4.200000</td>\n",
       "      <td>2019-01-20 00:19:09</td>\n",
       "    </tr>\n",
       "    <tr>\n",
       "      <th>1</th>\n",
       "      <td>b38b218e-3e22-44f2-adea-fd2c9dcfb431</td>\n",
       "      <td>46.0</td>\n",
       "      <td>6</td>\n",
       "      <td>1.150000</td>\n",
       "      <td>7.666667</td>\n",
       "      <td>2019-01-08 16:30:26</td>\n",
       "    </tr>\n",
       "    <tr>\n",
       "      <th>2</th>\n",
       "      <td>6065622a-98db-4a65-93a1-ba89e9f7ab7d</td>\n",
       "      <td>45.8</td>\n",
       "      <td>2</td>\n",
       "      <td>0.763333</td>\n",
       "      <td>22.900000</td>\n",
       "      <td>2019-01-31 00:01:05</td>\n",
       "    </tr>\n",
       "    <tr>\n",
       "      <th>3</th>\n",
       "      <td>af30d521-5a68-4ca7-8d66-7bd8e03d7bda</td>\n",
       "      <td>54.4</td>\n",
       "      <td>6</td>\n",
       "      <td>0.906667</td>\n",
       "      <td>9.066667</td>\n",
       "      <td>2019-01-30 17:20:51</td>\n",
       "    </tr>\n",
       "    <tr>\n",
       "      <th>4</th>\n",
       "      <td>79677fb6-31c7-4ddc-b35c-2afe15d1f96b</td>\n",
       "      <td>65.3</td>\n",
       "      <td>3</td>\n",
       "      <td>0.816250</td>\n",
       "      <td>21.766667</td>\n",
       "      <td>2018-12-29 16:16:57</td>\n",
       "    </tr>\n",
       "    <tr>\n",
       "      <th>5</th>\n",
       "      <td>3590abad-efb5-4622-a98c-ed70856006a7</td>\n",
       "      <td>14.9</td>\n",
       "      <td>1</td>\n",
       "      <td>0.372500</td>\n",
       "      <td>14.900000</td>\n",
       "      <td>2019-01-08 22:08:14</td>\n",
       "    </tr>\n",
       "    <tr>\n",
       "      <th>6</th>\n",
       "      <td>373e5d95-a3bd-484e-927e-ac4c3bdbe1c6</td>\n",
       "      <td>44.0</td>\n",
       "      <td>6</td>\n",
       "      <td>0.733333</td>\n",
       "      <td>7.333333</td>\n",
       "      <td>2019-01-18 00:17:13</td>\n",
       "    </tr>\n",
       "    <tr>\n",
       "      <th>7</th>\n",
       "      <td>1da1119e-cf94-47bf-ae73-3b4f9d7b7196</td>\n",
       "      <td>168.3</td>\n",
       "      <td>2</td>\n",
       "      <td>2.805000</td>\n",
       "      <td>84.150000</td>\n",
       "      <td>2019-01-08 21:04:42</td>\n",
       "    </tr>\n",
       "    <tr>\n",
       "      <th>8</th>\n",
       "      <td>fa5789d2-2ff9-4b62-8bd4-41daac2bec63</td>\n",
       "      <td>73.5</td>\n",
       "      <td>4</td>\n",
       "      <td>1.225000</td>\n",
       "      <td>18.375000</td>\n",
       "      <td>2019-01-29 20:55:22</td>\n",
       "    </tr>\n",
       "    <tr>\n",
       "      <th>9</th>\n",
       "      <td>0ddebc9b-39c1-4ea0-ad4f-6fe68e7b26ec</td>\n",
       "      <td>51.8</td>\n",
       "      <td>2</td>\n",
       "      <td>1.726667</td>\n",
       "      <td>25.900000</td>\n",
       "      <td>2019-01-12 23:31:47</td>\n",
       "    </tr>\n",
       "  </tbody>\n",
       "</table>\n",
       "</div>"
      ],
      "text/plain": [
       "                            customer_id  avg_order_amount_1_month_val  \\\n",
       "0  c0844066-28e1-4658-b375-91fa8173c7e2                          21.0   \n",
       "1  b38b218e-3e22-44f2-adea-fd2c9dcfb431                          46.0   \n",
       "2  6065622a-98db-4a65-93a1-ba89e9f7ab7d                          45.8   \n",
       "3  af30d521-5a68-4ca7-8d66-7bd8e03d7bda                          54.4   \n",
       "4  79677fb6-31c7-4ddc-b35c-2afe15d1f96b                          65.3   \n",
       "5  3590abad-efb5-4622-a98c-ed70856006a7                          14.9   \n",
       "6  373e5d95-a3bd-484e-927e-ac4c3bdbe1c6                          44.0   \n",
       "7  1da1119e-cf94-47bf-ae73-3b4f9d7b7196                         168.3   \n",
       "8  fa5789d2-2ff9-4b62-8bd4-41daac2bec63                          73.5   \n",
       "9  0ddebc9b-39c1-4ea0-ad4f-6fe68e7b26ec                          51.8   \n",
       "\n",
       "   items_count_val  ratio_order_amount_by_average_ticket_val  \\\n",
       "0                5                                  0.700000   \n",
       "1                6                                  1.150000   \n",
       "2                2                                  0.763333   \n",
       "3                6                                  0.906667   \n",
       "4                3                                  0.816250   \n",
       "5                1                                  0.372500   \n",
       "6                6                                  0.733333   \n",
       "7                2                                  2.805000   \n",
       "8                4                                  1.225000   \n",
       "9                2                                  1.726667   \n",
       "\n",
       "   ratio_order_amount_by_items_val           timestamp  \n",
       "0                         4.200000 2019-01-20 00:19:09  \n",
       "1                         7.666667 2019-01-08 16:30:26  \n",
       "2                        22.900000 2019-01-31 00:01:05  \n",
       "3                         9.066667 2019-01-30 17:20:51  \n",
       "4                        21.766667 2018-12-29 16:16:57  \n",
       "5                        14.900000 2019-01-08 22:08:14  \n",
       "6                         7.333333 2019-01-18 00:17:13  \n",
       "7                        84.150000 2019-01-08 21:04:42  \n",
       "8                        18.375000 2019-01-29 20:55:22  \n",
       "9                        25.900000 2019-01-12 23:31:47  "
      ]
     },
     "execution_count": 3,
     "metadata": {},
     "output_type": "execute_result"
    }
   ],
   "source": [
    "from cassandra.cluster import Cluster\n",
    "\n",
    "cluster = Cluster(['feature_store_cassandra'])\n",
    "session = cluster.connect()\n",
    "df = session.execute(\"SELECT * FROM feature_store.orders_feature_master_table\")\n",
    "cluster.shutdown()\n",
    "# Create data frame\n",
    "df = spark.createDataFrame(df)\n",
    "df.toPandas()"
   ]
  },
  {
   "cell_type": "markdown",
   "metadata": {},
   "source": [
    "## Historical data (offline), from Hive Metastore"
   ]
  },
  {
   "cell_type": "code",
   "execution_count": 5,
   "metadata": {},
   "outputs": [
    {
     "name": "stdout",
     "output_type": "stream",
     "text": [
      "+--------+---------+-----------+\n",
      "|database|tableName|isTemporary|\n",
      "+--------+---------+-----------+\n",
      "+--------+---------+-----------+\n",
      "\n"
     ]
    }
   ],
   "source": [
    "spark.sql(\"show tables\").show(truncate=False)"
   ]
  },
  {
   "cell_type": "code",
   "execution_count": 6,
   "metadata": {},
   "outputs": [
    {
     "ename": "AnalysisException",
     "evalue": "Table or view not found: historical_feature_store__orders_feature_master_table;;\n'UnresolvedRelation [historical_feature_store__orders_feature_master_table]\n",
     "output_type": "error",
     "traceback": [
      "\u001b[0;31m---------------------------------------------------------------------------\u001b[0m",
      "\u001b[0;31mAnalysisException\u001b[0m                         Traceback (most recent call last)",
      "\u001b[0;32m<ipython-input-6-8b321cc3129b>\u001b[0m in \u001b[0;36m<module>\u001b[0;34m\u001b[0m\n\u001b[0;32m----> 1\u001b[0;31m \u001b[0mspark\u001b[0m\u001b[0;34m.\u001b[0m\u001b[0mtable\u001b[0m\u001b[0;34m(\u001b[0m\u001b[0;34m\"historical_feature_store__orders_feature_master_table\"\u001b[0m\u001b[0;34m)\u001b[0m\u001b[0;34m.\u001b[0m\u001b[0mtoPandas\u001b[0m\u001b[0;34m(\u001b[0m\u001b[0;34m)\u001b[0m\u001b[0;34m\u001b[0m\u001b[0;34m\u001b[0m\u001b[0m\n\u001b[0m",
      "\u001b[0;32m/usr/local/spark/python/pyspark/sql/session.py\u001b[0m in \u001b[0;36mtable\u001b[0;34m(self, tableName)\u001b[0m\n\u001b[1;32m    657\u001b[0m         \u001b[0;32mTrue\u001b[0m\u001b[0;34m\u001b[0m\u001b[0;34m\u001b[0m\u001b[0m\n\u001b[1;32m    658\u001b[0m         \"\"\"\n\u001b[0;32m--> 659\u001b[0;31m         \u001b[0;32mreturn\u001b[0m \u001b[0mDataFrame\u001b[0m\u001b[0;34m(\u001b[0m\u001b[0mself\u001b[0m\u001b[0;34m.\u001b[0m\u001b[0m_jsparkSession\u001b[0m\u001b[0;34m.\u001b[0m\u001b[0mtable\u001b[0m\u001b[0;34m(\u001b[0m\u001b[0mtableName\u001b[0m\u001b[0;34m)\u001b[0m\u001b[0;34m,\u001b[0m \u001b[0mself\u001b[0m\u001b[0;34m.\u001b[0m\u001b[0m_wrapped\u001b[0m\u001b[0;34m)\u001b[0m\u001b[0;34m\u001b[0m\u001b[0;34m\u001b[0m\u001b[0m\n\u001b[0m\u001b[1;32m    660\u001b[0m \u001b[0;34m\u001b[0m\u001b[0m\n\u001b[1;32m    661\u001b[0m     \u001b[0;34m@\u001b[0m\u001b[0mproperty\u001b[0m\u001b[0;34m\u001b[0m\u001b[0;34m\u001b[0m\u001b[0m\n",
      "\u001b[0;32m/usr/local/spark/python/lib/py4j-0.10.9-src.zip/py4j/java_gateway.py\u001b[0m in \u001b[0;36m__call__\u001b[0;34m(self, *args)\u001b[0m\n\u001b[1;32m   1302\u001b[0m \u001b[0;34m\u001b[0m\u001b[0m\n\u001b[1;32m   1303\u001b[0m         \u001b[0manswer\u001b[0m \u001b[0;34m=\u001b[0m \u001b[0mself\u001b[0m\u001b[0;34m.\u001b[0m\u001b[0mgateway_client\u001b[0m\u001b[0;34m.\u001b[0m\u001b[0msend_command\u001b[0m\u001b[0;34m(\u001b[0m\u001b[0mcommand\u001b[0m\u001b[0;34m)\u001b[0m\u001b[0;34m\u001b[0m\u001b[0;34m\u001b[0m\u001b[0m\n\u001b[0;32m-> 1304\u001b[0;31m         return_value = get_return_value(\n\u001b[0m\u001b[1;32m   1305\u001b[0m             answer, self.gateway_client, self.target_id, self.name)\n\u001b[1;32m   1306\u001b[0m \u001b[0;34m\u001b[0m\u001b[0m\n",
      "\u001b[0;32m/usr/local/spark/python/pyspark/sql/utils.py\u001b[0m in \u001b[0;36mdeco\u001b[0;34m(*a, **kw)\u001b[0m\n\u001b[1;32m    135\u001b[0m                 \u001b[0;31m# Hide where the exception came from that shows a non-Pythonic\u001b[0m\u001b[0;34m\u001b[0m\u001b[0;34m\u001b[0m\u001b[0;34m\u001b[0m\u001b[0m\n\u001b[1;32m    136\u001b[0m                 \u001b[0;31m# JVM exception message.\u001b[0m\u001b[0;34m\u001b[0m\u001b[0;34m\u001b[0m\u001b[0;34m\u001b[0m\u001b[0m\n\u001b[0;32m--> 137\u001b[0;31m                 \u001b[0mraise_from\u001b[0m\u001b[0;34m(\u001b[0m\u001b[0mconverted\u001b[0m\u001b[0;34m)\u001b[0m\u001b[0;34m\u001b[0m\u001b[0;34m\u001b[0m\u001b[0m\n\u001b[0m\u001b[1;32m    138\u001b[0m             \u001b[0;32melse\u001b[0m\u001b[0;34m:\u001b[0m\u001b[0;34m\u001b[0m\u001b[0;34m\u001b[0m\u001b[0m\n\u001b[1;32m    139\u001b[0m                 \u001b[0;32mraise\u001b[0m\u001b[0;34m\u001b[0m\u001b[0;34m\u001b[0m\u001b[0m\n",
      "\u001b[0;32m/usr/local/spark/python/pyspark/sql/utils.py\u001b[0m in \u001b[0;36mraise_from\u001b[0;34m(e)\u001b[0m\n",
      "\u001b[0;31mAnalysisException\u001b[0m: Table or view not found: historical_feature_store__orders_feature_master_table;;\n'UnresolvedRelation [historical_feature_store__orders_feature_master_table]\n"
     ]
    }
   ],
   "source": [
    "spark.table(\"historical_feature_store__orders_feature_master_table\").toPandas()"
   ]
  },
  {
   "cell_type": "code",
   "execution_count": null,
   "metadata": {},
   "outputs": [],
   "source": []
  }
 ],
 "metadata": {
  "kernelspec": {
   "display_name": "Python 3",
   "language": "python",
   "name": "python3"
  },
  "language_info": {
   "codemirror_mode": {
    "name": "ipython",
    "version": 3
   },
   "file_extension": ".py",
   "mimetype": "text/x-python",
   "name": "python",
   "nbconvert_exporter": "python",
   "pygments_lexer": "ipython3",
   "version": "3.8.5"
  }
 },
 "nbformat": 4,
 "nbformat_minor": 4
}
